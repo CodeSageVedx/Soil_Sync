{
  "nbformat": 4,
  "nbformat_minor": 0,
  "metadata": {
    "colab": {
      "provenance": []
    },
    "kernelspec": {
      "name": "python3",
      "display_name": "Python 3"
    },
    "language_info": {
      "name": "python"
    }
  },
  "cells": [
    {
      "cell_type": "markdown",
      "source": [
        "# **READ DATA FROM CSV**"
      ],
      "metadata": {
        "id": "XkW1mbdtj5XS"
      }
    },
    {
      "cell_type": "code",
      "execution_count": 1,
      "metadata": {
        "colab": {
          "base_uri": "https://localhost:8080/"
        },
        "id": "LkaQYXmAgknH",
        "outputId": "7d654363-fde8-4efe-8c7f-e5693c51ed7c"
      },
      "outputs": [
        {
          "output_type": "stream",
          "name": "stdout",
          "text": [
            "     pH    EC    OC    OM    N     P    K    Zn   Fe    Cu   Mn  Sand  Silt  \\\n",
            "0  7.74  0.40  0.01  0.01   75  20.0  279  0.48  6.4  0.21  4.7  84.3   6.8   \n",
            "1  9.02  0.31  0.02  0.03   85  15.7  247  0.27  6.4  0.16  5.6  90.4   3.9   \n",
            "2  7.80  0.17  0.02  0.03   77  35.6  265  0.46  6.2  0.51  6.1  84.5   6.9   \n",
            "3  8.36  0.02  0.03  0.05  106   6.4  127  0.50  3.1  0.28  2.3  93.9   1.7   \n",
            "4  8.36  1.08  0.03  0.05   96  10.5   96  0.31  3.2  0.23  4.1  91.5   4.1   \n",
            "\n",
            "   Clay  CaCO3    CEC  Output  \n",
            "0   8.9   6.72   7.81       1  \n",
            "1   5.7   4.61   7.19       1  \n",
            "2   8.6   1.53  12.32       1  \n",
            "3   4.4   0.00   1.60       0  \n",
            "4   4.4   9.08   7.21       0  \n"
          ]
        }
      ],
      "source": [
        "import pandas as pd\n",
        "\n",
        "# Read data from a CSV file\n",
        "data = pd.read_csv(\"data.csv\")\n",
        "\n",
        "# Display the first few rows to understand the structure\n",
        "print(data.head())\n"
      ]
    },
    {
      "cell_type": "markdown",
      "source": [
        "# **DATA PREPROCESSING**"
      ],
      "metadata": {
        "id": "WF7By6aekIxb"
      }
    },
    {
      "cell_type": "code",
      "source": [
        "# Handle missing values\n",
        "data.fillna(data.mean(), inplace=True)\n",
        "\n",
        "X = data[['pH', 'EC', 'OC', 'OM', 'N', 'P', 'K', 'Zn', 'Fe', 'Cu', 'Mn', 'Sand', 'Silt', 'Clay', 'CaCO3', 'CEC']]\n",
        "y = data['Output']\n",
        "\n",
        "# Scale the features\n",
        "from sklearn.preprocessing import StandardScaler\n",
        "scaler = StandardScaler()\n",
        "X_scaled = scaler.fit_transform(X)\n",
        "\n",
        "# Split the data into training and testing sets\n",
        "from sklearn.model_selection import train_test_split\n",
        "X_train, X_test, y_train, y_test = train_test_split(X_scaled, y, test_size=0.2, random_state=42)\n"
      ],
      "metadata": {
        "id": "hOnH9SWPkPg0"
      },
      "execution_count": 2,
      "outputs": []
    },
    {
      "cell_type": "markdown",
      "source": [
        "# **MACHINE LEARNING MODEL**"
      ],
      "metadata": {
        "id": "wzj2oEm_kamX"
      }
    },
    {
      "cell_type": "code",
      "source": [
        "from sklearn.linear_model import LogisticRegression\n",
        "from sklearn.metrics import classification_report\n",
        "\n",
        "# Train a logistic regression model\n",
        "model = LogisticRegression()\n",
        "model.fit(X_train, y_train)\n",
        "\n",
        "# Evaluate the model with the testing set\n",
        "y_pred = model.predict(X_test)\n",
        "\n",
        "print(\"Classification Report:\")\n",
        "print(classification_report(y_test, y_pred))\n"
      ],
      "metadata": {
        "colab": {
          "base_uri": "https://localhost:8080/"
        },
        "id": "7bDmMpCwkh1I",
        "outputId": "a55e6e82-672e-4b09-9a38-3b06e01e9be8"
      },
      "execution_count": 3,
      "outputs": [
        {
          "output_type": "stream",
          "name": "stdout",
          "text": [
            "Classification Report:\n",
            "              precision    recall  f1-score   support\n",
            "\n",
            "           0       0.82      0.90      0.86        10\n",
            "           1       0.89      0.80      0.84        10\n",
            "\n",
            "    accuracy                           0.85        20\n",
            "   macro avg       0.85      0.85      0.85        20\n",
            "weighted avg       0.85      0.85      0.85        20\n",
            "\n"
          ]
        }
      ]
    },
    {
      "cell_type": "markdown",
      "source": [
        "# **PREDICTION MODEL**"
      ],
      "metadata": {
        "id": "WWFVYfc3ndnC"
      }
    },
    {
      "cell_type": "code",
      "source": [
        "def predict_soil_fertility(model, scaler):\n",
        "    # Get user input for soil attributes\n",
        "    pH = float(input(\"Enter pH level: \"))\n",
        "    EC = float(input(\"Enter Electrical Conductivity (in dS/m): \"))\n",
        "    OC = float(input(\"Enter Organic Carbon content (in %): \"))\n",
        "    OM = float(input(\"Enter Organic Matter content (in %): \"))\n",
        "    N = float(input(\"Enter Nitrogen content (in mg/kg): \"))\n",
        "    P = float(input(\"Enter Phosphorus content (in mg/kg): \"))\n",
        "    K = float(input(\"Enter Potassium content (in mg/kg): \"))\n",
        "    Zn = float(input(\"Enter Zinc content (in mg/kg): \"))\n",
        "    Fe = float(input(\"Enter Iron content (in mg/kg): \"))\n",
        "    Cu = float(input(\"Enter Copper content (in mg/kg): \"))\n",
        "    Mn = float(input(\"Enter Manganese content (in mg/kg): \"))\n",
        "    Sand = float(input(\"Enter Sand percentage: \"))\n",
        "    Silt = float(input(\"Enter Silt percentage: \"))\n",
        "    Clay = float(input(\"Enter Clay percentage: \"))\n",
        "    CaCO3 = float(input(\"Enter Calcium Carbonate content (in %): \"))\n",
        "    CEC = float(input(\"Enter Cation Exchange Capacity (in cmol/kg): \"))\n",
        "\n",
        "    # DataFrame with user input\n",
        "    user_input = pd.DataFrame({\n",
        "        'pH': [pH],\n",
        "        'EC': [EC],\n",
        "        'OC': [OC],\n",
        "        'OM': [OM],\n",
        "        'N': [N],\n",
        "        'P': [P],\n",
        "        'K': [K],\n",
        "        'Zn': [Zn],\n",
        "        'Fe': [Fe],\n",
        "        'Cu': [Cu],\n",
        "        'Mn': [Mn],\n",
        "        'Sand': [Sand],\n",
        "        'Silt': [Silt],\n",
        "        'Clay': [Clay],\n",
        "        'CaCO3': [CaCO3],\n",
        "        'CEC': [CEC]\n",
        "    })\n",
        "\n",
        "\n",
        "    # Scale the input using the scaler used for training\n",
        "    user_input_scaled = scaler.transform(user_input)\n",
        "\n",
        "    # Get prediction from the model\n",
        "    prediction = model.predict(user_input_scaled)\n",
        "\n",
        "    # Determine if the soil is fertile\n",
        "    if prediction[0] == 1:\n",
        "        return \"The soil is fertile.\"\n",
        "    else:\n",
        "        return \"The soil is not fertile.\"\n",
        "\n",
        "print(predict_soil_fertility(model, scaler))\n"
      ],
      "metadata": {
        "colab": {
          "base_uri": "https://localhost:8080/"
        },
        "id": "FW2DCKndnilj",
        "outputId": "22db9ca5-9304-4f20-d1d3-d676e04fe7f8"
      },
      "execution_count": 5,
      "outputs": [
        {
          "output_type": "stream",
          "name": "stdout",
          "text": [
            "Enter pH level: 7.74\n",
            "Enter Electrical Conductivity (in dS/m): 0.40\n",
            "Enter Organic Carbon content (in %): 0.01\n",
            "Enter Organic Matter content (in %): 0.01\n",
            "Enter Nitrogen content (in mg/kg): 75\n",
            "Enter Phosphorus content (in mg/kg): 20.\n",
            "Enter Potassium content (in mg/kg): 279\n",
            "Enter Zinc content (in mg/kg): 0.48\n",
            "Enter Iron content (in mg/kg): 6.4\n",
            "Enter Copper content (in mg/kg): 0.21\n",
            "Enter Manganese content (in mg/kg): 4.7\n",
            "Enter Sand percentage: 84.3\n",
            "Enter Silt percentage: 6.8\n",
            "Enter Clay percentage: 8.9\n",
            "Enter Calcium Carbonate content (in %): 6.72\n",
            "Enter Cation Exchange Capacity (in cmol/kg): 7.81\n",
            "The soil is fertile.\n"
          ]
        }
      ]
    }
  ]
}